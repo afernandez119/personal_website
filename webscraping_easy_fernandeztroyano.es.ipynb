{
 "cells": [
  {
   "cell_type": "code",
   "execution_count": 2,
   "metadata": {},
   "outputs": [
    {
     "name": "stdout",
     "output_type": "stream",
     "text": [
      "Respuesta del servidor a nuestra solicitud de consulta a la web: \n",
      "<bound method Response.raise_for_status of <Response [200]>>\n",
      "\n",
      "\n",
      "Listado de enlaces descargados de la web: \n",
      "\n",
      "http://web.mta.info/developers/data/nyct/turnstile/turnstile_200314.txt\n",
      "http://web.mta.info/developers/data/nyct/turnstile/turnstile_200307.txt\n",
      "http://web.mta.info/developers/data/nyct/turnstile/turnstile_200229.txt\n",
      "http://web.mta.info/developers/data/nyct/turnstile/turnstile_200222.txt\n",
      "http://web.mta.info/developers/data/nyct/turnstile/turnstile_200215.txt\n",
      "http://web.mta.info/developers/data/nyct/turnstile/turnstile_200208.txt\n",
      "http://web.mta.info/developers/data/nyct/turnstile/turnstile_200201.txt\n",
      "http://web.mta.info/developers/data/nyct/turnstile/turnstile_200125.txt\n",
      "http://web.mta.info/developers/data/nyct/turnstile/turnstile_200118.txt\n",
      "http://web.mta.info/developers/data/nyct/turnstile/turnstile_200111.txt\n"
     ]
    }
   ],
   "source": [
    "# Importación de librerías a usar\n",
    "import bs4,requests\n",
    "\n",
    "#Almacenamos la url en una variable\n",
    "url_busqueda=\"http://web.mta.info/developers/turnstile.html\"\n",
    "\n",
    "\n",
    "#Pasamos la url a request para verificar que el servidor nos da acceso a la web y nos descarga la web en html en el objeto url_request\n",
    "url_request=requests.get(url_busqueda)\n",
    "print(\"Respuesta del servidor a nuestra solicitud de consulta a la web: \\n\"+str(url_request.raise_for_status))\n",
    "\n",
    "# Iniciamos el objeto mta de clase BeautifulSoup con el contenido\n",
    "# de html de la web almacenado en \"url_request.text\"\n",
    "mta=bs4.BeautifulSoup(url_request.text)\n",
    "enlaces_mta=mta.select(\"a\")\n",
    "\n",
    "# Inicializamos lista para almacenar enlaces:\n",
    "enlaces=[]\n",
    "\n",
    "print(\"\\n\")\n",
    "\n",
    "# Separamos cada enlace referenciado como \"href\" en una lista\n",
    "for link in enlaces_mta:\n",
    "    enlaces.append(link.get(\"href\"))\n",
    "\n",
    "# Print \"comentado\" por si se quiere ver la lista para ver los enlaces. En nuestro caso 550 enlaces almacenados    \n",
    "#for enlace in enlaces:\n",
    "#    print(enlace)\n",
    "\n",
    "# Nos quedamos solo con las urls que inician por \"data\" ya que son las que nos interesan.\n",
    "# En el mismo paso, incluimos la primera parte \"http://web.mta.info/developers/\" para que sea accesible la url\n",
    "    \n",
    "enlaces_data=[]\n",
    "for enlace in enlaces:\n",
    "    if str(enlace).startswith(\"data/\"):\n",
    "        enlaces_data.append(\"http://web.mta.info/developers/\"+str(enlace))\n",
    "\n",
    "print(\"Listado de enlaces descargados de la web: \\n\")\n",
    "for enlace in enlaces_data[:10]:\n",
    "    print(enlace)"
   ]
  }
 ],
 "metadata": {
  "kernelspec": {
   "display_name": "Python 3",
   "language": "python",
   "name": "python3"
  },
  "language_info": {
   "codemirror_mode": {
    "name": "ipython",
    "version": 3
   },
   "file_extension": ".py",
   "mimetype": "text/x-python",
   "name": "python",
   "nbconvert_exporter": "python",
   "pygments_lexer": "ipython3",
   "version": "3.7.4"
  }
 },
 "nbformat": 4,
 "nbformat_minor": 2
}
